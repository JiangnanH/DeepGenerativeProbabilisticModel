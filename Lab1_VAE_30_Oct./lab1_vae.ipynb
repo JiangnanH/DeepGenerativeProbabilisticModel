{
 "cells": [
  {
   "cell_type": "markdown",
   "metadata": {},
   "source": [
    "# Deep Probabilistice Generative Models - Variational Auto-Encoders\n",
    "\n",
    "For this lab exercise, you have to use Pytorch.\n",
    "If you don't know Pytorch or you don't know how to use it, please start by reading the following link:\n",
    "\n",
    "- https://pytorch.org/tutorials/beginner/nlp/pytorch_tutorial.html\n",
    "\n",
    "When you use Pytorch function, it is important to carefully read the documentation to understand how the different functions, what kind of transformation they apply etc.\n",
    "Searching on stackoverflow is not enough. :) \n",
    "You have to take time to read it carefully to understand what you are doing.\n",
    "\n",
    "- https://pytorch.org/docs/stable/torch.html\n",
    "- https://pytorch.org/docs/stable/nn.html\n",
    "- https://pytorch.org/docs/stable/nn.functional.html\n",
    "\n",
    "The most import tip: keep track of the dimension of your tensor and what information they contain!\n",
    "\n",
    "For examples, you can look at the GMM optimization via gradient descent notebook from the first course and at the MNIST classification example below. Don't just run them, try to understand them! Could you recode them from scratch without internet/example access?"
   ]
  },
  {
   "cell_type": "markdown",
   "metadata": {},
   "source": [
    "## 0. Preprocessing\n",
    "\n",
    "Import the libraries we will use.\n",
    "You can download the file dataset_loader from the course website."
   ]
  },
  {
   "cell_type": "code",
   "execution_count": 1,
   "metadata": {
    "ExecuteTime": {
     "end_time": "2020-10-29T20:26:39.890559Z",
     "start_time": "2020-10-29T20:26:35.645276Z"
    }
   },
   "outputs": [],
   "source": [
    "import torch\n",
    "import torch.nn as nn\n",
    "import torch.optim\n",
    "import torch.nn.functional as F\n",
    "\n",
    "import os\n",
    "import numpy as np\n",
    "import matplotlib.pyplot as plt\n",
    "import math\n",
    "import matplotlib\n",
    "import math\n",
    "\n",
    "# To load the data we will use the script of Gaetan Marceau Caron\n",
    "# You can download it from the course webiste and move it to the same directory that contains this ipynb file\n",
    "import dataset_loader\n",
    "\n",
    "%matplotlib inline"
   ]
  },
  {
   "cell_type": "markdown",
   "metadata": {},
   "source": [
    "Next, we download and preprocess the MNIST dataset, see http://yann.lecun.com/exdb/mnist/ .\n",
    "Our observed random variables will be Bernoulli distributions, so we need to binarize the dataset, i.e. each pixel can either be black or white."
   ]
  },
  {
   "cell_type": "code",
   "execution_count": 2,
   "metadata": {
    "ExecuteTime": {
     "end_time": "2020-10-29T20:26:41.056547Z",
     "start_time": "2020-10-29T20:26:39.892126Z"
    }
   },
   "outputs": [],
   "source": [
    "# Download mnist dataset \n",
    "if(\"mnist.pkl.gz\" not in os.listdir(\".\")):\n",
    "    !wget http://deeplearning.net/data/mnist/mnist.pkl.gz\n",
    "\n",
    "# if you have it somewhere else, you can comment the lines above\n",
    "# and overwrite the path below\n",
    "mnist_path = \"./mnist.pkl.gz\"\n",
    "\n",
    "# the dataset contains 3 splits (train/dev/test),\n",
    "# each one containing two vectors (pixels and classes)\n",
    "(train_data_pixels, train_data_classes), \\\n",
    "(dev_data_pixels, dev_data_classes), _ = dataset_loader.load_mnist(mnist_path)"
   ]
  },
  {
   "cell_type": "code",
   "execution_count": 3,
   "metadata": {
    "ExecuteTime": {
     "end_time": "2020-10-29T20:26:41.327160Z",
     "start_time": "2020-10-29T20:26:41.058881Z"
    }
   },
   "outputs": [],
   "source": [
    "# to binarize, we just set to 1 pixels with a value >= 0.5, 0 otherwise\n",
    "train_data_pixels = 1*(train_data_pixels >= 0.5)\n",
    "dev_data_pixels = 1*(dev_data_pixels >= 0.5)"
   ]
  },
  {
   "cell_type": "code",
   "execution_count": 4,
   "metadata": {
    "ExecuteTime": {
     "end_time": "2020-10-29T20:26:41.619978Z",
     "start_time": "2020-10-29T20:26:41.328863Z"
    }
   },
   "outputs": [],
   "source": [
    "# dataset_loader return numpy tensors,\n",
    "# we convert them directly to pytorch tensors\n",
    "train_data_pixels = torch.from_numpy(train_data_pixels).float()\n",
    "train_data_classes = torch.from_numpy(train_data_classes).long()\n",
    "\n",
    "dev_data_pixels = torch.from_numpy(dev_data_pixels).float()\n",
    "dev_data_classes = torch.from_numpy(dev_data_classes).long()"
   ]
  },
  {
   "cell_type": "code",
   "execution_count": 5,
   "metadata": {
    "ExecuteTime": {
     "end_time": "2020-10-29T20:26:41.633055Z",
     "start_time": "2020-10-29T20:26:41.622419Z"
    }
   },
   "outputs": [
    {
     "name": "stdout",
     "output_type": "stream",
     "text": [
      "Shape of the pixel tensor: torch.Size([50000, 784])\n",
      "Shape of the class tensor: torch.Size([50000])\n"
     ]
    }
   ],
   "source": [
    "# there 50000 images, each image is of size 28x28\n",
    "# each image as been reshaped as vector of size 784\n",
    "print(\"Shape of the pixel tensor:\", train_data_pixels.shape)\n",
    "print(\"Shape of the class tensor:\", train_data_classes.shape)"
   ]
  },
  {
   "cell_type": "code",
   "execution_count": 6,
   "metadata": {
    "ExecuteTime": {
     "end_time": "2020-10-29T20:26:42.629724Z",
     "start_time": "2020-10-29T20:26:41.634878Z"
    }
   },
   "outputs": [
    {
     "data": {
      "image/png": "[encoded data removed]",
      "text/plain": [
       "<Figure size 432x288 with 1 Axes>"
      ]
     },
     "metadata": {
      "needs_background": "light"
     },
     "output_type": "display_data"
    },
    {
     "data": {
      "image/png": "[encoded data removed]",
      "text/plain": [
       "<Figure size 432x288 with 1 Axes>"
      ]
     },
     "metadata": {
      "needs_background": "light"
     },
     "output_type": "display_data"
    },
    {
     "data": {
      "image/png": "[encoded data removed]",
      "text/plain": [
       "<Figure size 432x288 with 1 Axes>"
      ]
     },
     "metadata": {
      "needs_background": "light"
     },
     "output_type": "display_data"
    },
    {
     "data": {
      "image/png": "[encoded data removed]",
      "text/plain": [
       "<Figure size 432x288 with 1 Axes>"
      ]
     },
     "metadata": {
      "needs_background": "light"
     },
     "output_type": "display_data"
    },
    {
     "data": {
      "image/png": "[encoded data removed]",
      "text/plain": [
       "<Figure size 432x288 with 1 Axes>"
      ]
     },
     "metadata": {
      "needs_background": "light"
     },
     "output_type": "display_data"
    }
   ],
   "source": [
    "# we will use this function to print images generated by our network\n",
    "# the parameter images must be a tensor of shape (n images, 784)\n",
    "def display_images(images):\n",
    "    # convert to numpy tensor\n",
    "    images = images.detach().numpy()\n",
    "\n",
    "    for i in range(images.shape[0]):\n",
    "        plt.imshow(images[i].reshape(28,28), cmap='Greys')\n",
    "        plt.show()\n",
    "        \n",
    "# display the 5 first image in the dataset\n",
    "display_images(train_data_pixels[:5])"
   ]
  },
  {
   "cell_type": "markdown",
   "metadata": {},
   "source": [
    "## 1. MNIST classification with Pytorch\n",
    "\n",
    "In this first part, you need to study the code to understand how Pytorch works. :)\n",
    "The example is a simple classifier for MNIST data.\n",
    "\n",
    "**TODO**\n",
    "\n",
    "- can you write mathematically the function computed by this network?\n",
    "- what are the dimensions of each parameter?\n",
    "\n",
    "It is very import that you are able to write that and understand what tensor operation it does.\n",
    "This is the **root** of machine learning and especially deep learning.\n",
    "To help you, draw the matrices/vectors!"
   ]
  },
  {
   "cell_type": "code",
   "execution_count": 7,
   "metadata": {
    "ExecuteTime": {
     "end_time": "2020-10-29T20:26:42.640920Z",
     "start_time": "2020-10-29T20:26:42.632227Z"
    }
   },
   "outputs": [],
   "source": [
    "# to create a neural network (or a part of a neural network),\n",
    "# we create a class that extends nn.Module\n",
    "class Classifier(nn.Module):\n",
    "    # the constructor, parameters are self-documented by their name :)\n",
    "    # input_dim: in our case it will the size of a single input image\n",
    "    # hidden_dim: the hidden representation dim\n",
    "    # output_dim: the number of class, in our case there are 10 digits\n",
    "    def __init__(self, input_dim, hidden_dim, output_dim, dropout_ratio=0.5):\n",
    "        super().__init__()\n",
    "        \n",
    "        # we have two projections in the network,\n",
    "        # the first one project the input in the hidden space,\n",
    "        # the second one project the hidden representation in the output space.\n",
    "        # have a look at the documentation of nn.Linear!\n",
    "        # nn.Linear extends nn.Module\n",
    "        self.proj1 = nn.Linear(input_dim, hidden_dim)\n",
    "        self.proj2 = nn.Linear(hidden_dim, output_dim)\n",
    "        \n",
    "        # dropout can be used to prevent overfitting,\n",
    "        # however, it may be better to start training VAE without!\n",
    "        # I just put it here for the example\n",
    "        \n",
    "        # let assume you create a network with:\n",
    "        # network = Classifier(10, 10, 10)\n",
    "        # then, to enable dropout you must call:\n",
    "        # network.train()\n",
    "        # and to disable dropout:\n",
    "        # network.eval()\n",
    "        # basically this calls set the network\n",
    "        # in training and evaluation modes, respectively\n",
    "        self.dropout = nn.Dropout(0.5)\n",
    "        \n",
    "    # this is the function that will be called\n",
    "    # when we pass data to the network to compute the output\n",
    "    # shape of batch: (n samples, output_dim)\n",
    "    # where n samples is the number of samples in the batch\n",
    "    def forward(self, batch):\n",
    "        hid = self.proj1(batch)\n",
    "        \n",
    "        # non-linearity, it could have been a nn.Module object stored in this module,\n",
    "        # here we use the functionnal version\n",
    "        hid = F.relu(hid)\n",
    "        \n",
    "        # note: dropout is used to prevent overfitting\n",
    "        hid = self.dropout(hid)\n",
    "        \n",
    "        # return the output, i.e. logits of each class for each sample in the batch\n",
    "        # shape: (n samples, output_dim)\n",
    "        return self.proj2(hid)"
   ]
  },
  {
   "cell_type": "code",
   "execution_count": 8,
   "metadata": {
    "ExecuteTime": {
     "end_time": "2020-10-29T20:27:19.335250Z",
     "start_time": "2020-10-29T20:26:42.645054Z"
    }
   },
   "outputs": [
    {
     "name": "stdout",
     "output_type": "stream",
     "text": [
      "0 :\t 24756.49257451296 \t / dev precision:\t 0.9379\n",
      "1 :\t 12719.153946638107 \t / dev precision:\t 0.953\n",
      "2 :\t 9831.667908281088 \t / dev precision:\t 0.961\n",
      "3 :\t 8353.449212759733 \t / dev precision:\t 0.9646\n",
      "4 :\t 7321.995804086328 \t / dev precision:\t 0.9686\n",
      "5 :\t 6525.14179199934 \t / dev precision:\t 0.9692\n",
      "6 :\t 5929.329687915742 \t / dev precision:\t 0.971\n",
      "7 :\t 5299.366392567754 \t / dev precision:\t 0.9721\n",
      "8 :\t 4874.600575491786 \t / dev precision:\t 0.9717\n",
      "9 :\t 4578.797915298492 \t / dev precision:\t 0.973\n",
      "10 :\t 4410.670916736126 \t / dev precision:\t 0.9746\n",
      "11 :\t 4112.656190618873 \t / dev precision:\t 0.9748\n",
      "12 :\t 3823.76921097748 \t / dev precision:\t 0.9742\n",
      "13 :\t 3569.3480579182506 \t / dev precision:\t 0.976\n",
      "14 :\t 3496.085962932557 \t / dev precision:\t 0.9757\n",
      "15 :\t 3343.6331539880484 \t / dev precision:\t 0.9748\n",
      "16 :\t 3174.141986016184 \t / dev precision:\t 0.9763\n",
      "17 :\t 2849.4954413734376 \t / dev precision:\t 0.9771\n",
      "18 :\t 2896.498364349827 \t / dev precision:\t 0.9753\n",
      "19 :\t 2770.914969453588 \t / dev precision:\t 0.9755\n"
     ]
    }
   ],
   "source": [
    "n_epoch = 20\n",
    "batch_size = 100\n",
    "\n",
    "# build the network!\n",
    "network = Classifier(28*28, 200, 10)\n",
    "\n",
    "# optimizer that will be used to update the parameters!\n",
    "optimizer = torch.optim.Adam(network.parameters())\n",
    "\n",
    "all_epoch_losses = list()\n",
    "all_epoch_accuracies = list()\n",
    "for epoch in range(n_epoch):\n",
    "    # we keep track of the loss at each epoch\n",
    "    epoch_loss = 0\n",
    "    \n",
    "    # Note: one trick often used is to shuffle the data at each epoch,\n",
    "    # we won't do that here.\n",
    "    # if you want to do it, be carefull:\n",
    "    # you need to shuffle both train_data_pixels and train_data_classes\n",
    "    # so that they match, i.e. you cannot shuffle them independently!\n",
    "\n",
    "    network.train() # set the network in train mode (i.e. enable dropout)\n",
    "    \n",
    "    # loop over the data\n",
    "    for i in range(0, train_data_pixels.shape[0], batch_size):\n",
    "        # IMPORTANT:\n",
    "        # we must always call zero_grad() because each call to .backward()\n",
    "        # will accumulate the gradient!\n",
    "        optimizer.zero_grad()\n",
    "        \n",
    "        # batch of data\n",
    "        # shape: (n samples, 784)\n",
    "        # do you understand why n samples can be different of batch_size?\n",
    "        batch = train_data_pixels[i:i+batch_size]\n",
    "        \n",
    "        # compute the weights associate with each class for each picture\n",
    "        # logits shape: (n samples, 10)\n",
    "        logits = network(batch)\n",
    "        \n",
    "        # compute the loss\n",
    "        # look at the documentation of the function!\n",
    "        loss = F.cross_entropy(\n",
    "            logits,\n",
    "            train_data_classes[i:i+batch_size],\n",
    "            reduction=\"mean\"\n",
    "        )\n",
    "        \n",
    "        # to accumulate to the epoch loss,\n",
    "        # we need to call loss.item() so the value\n",
    "        # will detached from the computational graph,\n",
    "        # i.e. loss.item() is python float, not a pytorch object.\n",
    "        # can you understand why we multiply by batch_size.shape[0] ?\n",
    "        epoch_loss += loss.item() * batch.shape[0]\n",
    "        \n",
    "        loss.backward() # compute the gradient\n",
    "        optimizer.step() # update parameters of the model\n",
    "        \n",
    "    # at the end of each epoch, we eval on the dev data\n",
    "    network.eval()\n",
    "    n_dev_correct = 0\n",
    "    \n",
    "    # we don't need gradient computation during evaluation,\n",
    "    # so we enclose computation with torch.no_grad(),\n",
    "    # this will makes computation more efficient\n",
    "    with torch.no_grad():\n",
    "        for i in range(0, dev_data_pixels.shape[0], batch_size):\n",
    "            batch = dev_data_pixels[i:i+batch_size]\n",
    "            logits = network(batch)\n",
    "            \n",
    "            # compute the class of maximum weight for each sample,\n",
    "            # look at the documentation of argmax!\n",
    "            # pred shape: (n samples,)\n",
    "            pred = logits.argmax(1)\n",
    "            \n",
    "            # compare prediction with gold classes\n",
    "            n_dev_correct += (pred == dev_data_classes[i:i+batch_size]).sum().item()\n",
    "    \n",
    "    all_epoch_losses.append(epoch_loss)\n",
    "    all_epoch_accuracies.append(n_dev_correct / dev_data_classes.shape[0]) \n",
    "    print(\n",
    "        epoch, \":\\t\",\n",
    "        epoch_loss,# / len(train_data[0]),\n",
    "        \"\\t / dev precision:\\t\",\n",
    "        n_dev_correct / dev_data_classes.shape[0],\n",
    "        flush=True\n",
    "    )"
   ]
  },
  {
   "cell_type": "code",
   "execution_count": 9,
   "metadata": {
    "ExecuteTime": {
     "end_time": "2020-10-29T20:27:19.761491Z",
     "start_time": "2020-10-29T20:27:19.338566Z"
    }
   },
   "outputs": [
    {
     "data": {
      "image/png": "[encoded data removed]",
      "text/plain": [
       "<Figure size 432x288 with 1 Axes>"
      ]
     },
     "metadata": {
      "needs_background": "light"
     },
     "output_type": "display_data"
    },
    {
     "data": {
      "image/png": "[encoded data removed]",
      "text/plain": [
       "<Figure size 432x288 with 1 Axes>"
      ]
     },
     "metadata": {
      "needs_background": "light"
     },
     "output_type": "display_data"
    }
   ],
   "source": [
    "# print graph to show how the loss and the accuracy evolve during training,\n",
    "# for example to see if we overfit the training data.\n",
    "# Note that MNIST is a really simple dataset, so its no really interesting in this case :)\n",
    "plt.plot(np.arange(n_epoch), all_epoch_losses)\n",
    "plt.show()\n",
    "\n",
    "plt.plot(np.arange(n_epoch), all_epoch_accuracies)\n",
    "plt.show()"
   ]
  },
  {
   "cell_type": "markdown",
   "metadata": {},
   "source": [
    "## 2. VAE with continuous latent space and binary observed space\n",
    "\n",
    "The first VAE that we will develop is based on the following generative story:\n",
    "\n",
    "1. $z \\sim p(z)$\n",
    "2. $x \\sim p(x | z ; \\theta)$\n",
    "\n",
    "where the latent random variable $Z$ takes value in $\\mathbb R^n$.\n",
    "The prior ditribution $p(z)$ is a multivariate Gaussian where each coordinate is independent.\n",
    "We fix the mean and variance of each coordinate to 0 and 1, respectively.\n",
    "The conditional distribution $p(x | z ; \\theta)$ is parameterized by a neural network.\n",
    "The random variables $X$ are $m$ independent Bernoulli random variables.\n",
    "\n",
    "Note: this kind of VAE will be quite bad at generating MNIST picture.\n",
    "Therefore, when you do you experiments, you should both generate picture and show the distribution $p(x | z ; \\theta)$ as a picture.\n",
    "This is a well known problem of VAE, you can try to play with the network architecture and the parameters to improve generation.\n",
    "However, hyperparameter optimization is not the goal of this lab exercise. :)\n",
    "Another solution would be to use Gaussian random variables for the output distribution, but we won't do that here."
   ]
  },
  {
   "cell_type": "markdown",
   "metadata": {},
   "source": [
    "### KL divergence\n",
    "\n",
    "The first function we have to implement is the one that compute the KL divergence with the prior.\n",
    "You can find the formula in appendix B of the following paper: https://arxiv.org/pdf/1312.6114.pdf\n",
    "\n",
    "**WARNING:** In the paper they give the formula for the -KL, and here we want the KL, so don't forget to put a minus sign in front of their formula. :)"
   ]
  },
  {
   "cell_type": "code",
   "execution_count": 10,
   "metadata": {
    "ExecuteTime": {
     "end_time": "2020-10-29T20:27:19.907170Z",
     "start_time": "2020-10-29T20:27:19.764032Z"
    }
   },
   "outputs": [
    {
     "name": "stdout",
     "output_type": "stream",
     "text": [
      "torch.Size([10])\n",
      "return dim is ok.\n",
      "Should be 0: -0.0\n",
      "Should be 0.5: 0.5\n",
      "Should be 2.6945...: 2.694528102874756\n"
     ]
    }
   ],
   "source": [
    "# the shapes of mu and log_sigma_squared are: (n batch, n latent)\n",
    "# the return vector must be of shape: (n batch,)\n",
    "def KL_with_gaussian_prior(mu, log_sigma_squared):\n",
    "    #\n",
    "    \n",
    "    KL = -(1/2)* torch.sum(1 + log_sigma_squared - mu**2 - torch.exp(log_sigma_squared),axis=1)\n",
    "    \n",
    "    return KL\n",
    "\n",
    "    #\n",
    "    \n",
    "# test for shape\n",
    "mu = torch.rand((10, 30))\n",
    "log_sigma_squared = torch.rand((10, 30))\n",
    "\n",
    "print(KL_with_gaussian_prior(mu, log_sigma_squared).shape)\n",
    "if KL_with_gaussian_prior(mu, log_sigma_squared).shape != (10, ):\n",
    "    raise RuntimeError(\"Invalid return dim!\")\n",
    "else:\n",
    "    print(\"return dim is ok.\")\n",
    "    \n",
    "# test for return value\n",
    "# result should be 0 as it is equal to the prior\n",
    "print(\"Should be 0:\", KL_with_gaussian_prior(torch.tensor([[0.]]), torch.tensor([[0.]])).item())\n",
    "print(\"Should be 0.5:\", KL_with_gaussian_prior(torch.tensor([[1.]]), torch.tensor([[0.]])).item())\n",
    "print(\"Should be 2.6945...:\", KL_with_gaussian_prior(torch.tensor([[1.]]), torch.tensor([[2.]])).item())"
   ]
  },
  {
   "cell_type": "markdown",
   "metadata": {},
   "source": [
    "### Network\n",
    "\n",
    "Next you need to code the encoder and the decoder.\n",
    "The encoder should return a tuple of tensors (mu, log_sigma_squared),\n",
    "both are unconstrained so they should be the output of a linear projection.\n",
    "The term log_sigma_squared means that the standard deviation can be computed via sigma=exp(0.5 * log_sigma_squared).\n",
    "Be sure you understand this.\n",
    "\n",
    "The structure of the encoder should be as follow:\n",
    "\n",
    "- one projection and non linearity (e.g. relu) to compute a hidden representation of the input,\n",
    "- two projections to compute mu and log_sigma_squared from the same hidden representation.\n",
    "\n",
    "The structure of the decoder shoud be similar to the classifier above.\n",
    "Similarly to the encoder, the decoder should output unconstrained value, i.e. it does not directly return the mu parameters of the Bernoulli distribution, but values in R.\n",
    "In your code, if you need to get the distribution, you can call sigmoid(mu) to transform the unconstrained values to the mu parameters.\n",
    "\n",
    "- one projection and non linearity (e.g. relu) to compute a hidden representation of the input,\n",
    "- one projection to the output space\n",
    "\n",
    "The decode has two additional functions:\n",
    "\n",
    "- sample_distributions: it samples from the prior and return the conditional output distributions (so here it means that you **must** apply the sigmoid befaire returning)\n",
    "- sample_images: call sample_distributions and then sample images from the output distributions.\n",
    "\n",
    "To sample from a Bernoulli you can use the following function: https://pytorch.org/docs/stable/generated/torch.bernoulli.html\n",
    "To sample from the Gaussian prior, you can:\n",
    "\n",
    "- first create an empty tensor via https://pytorch.org/docs/stable/generated/torch.empty.html\n",
    "- then fill values in the tensor via https://pytorch.org/docs/stable/tensors.html#torch.Tensor.normal_\n",
    "\n",
    "This second function change a tensor in-place (hence the _ at the end of the name)"
   ]
  },
  {
   "cell_type": "code",
   "execution_count": 11,
   "metadata": {
    "ExecuteTime": {
     "end_time": "2020-10-29T20:27:19.919180Z",
     "start_time": "2020-10-29T20:27:19.909698Z"
    }
   },
   "outputs": [],
   "source": [
    "class GaussianEncoder(nn.Module):\n",
    "    def __init__(self, input_dim, hidden_dim, output_dim):\n",
    "        super().__init__()\n",
    "        #\n",
    "        #\n",
    "        self.proj1_1 = nn.Linear(input_dim, hidden_dim)\n",
    "        self.proj2_1 = nn.Linear(hidden_dim, output_dim)\n",
    "        self.proj2_2 = nn.Linear(hidden_dim, output_dim)\n",
    "        #\n",
    "        #\n",
    "        \n",
    "    def forward(self, batch):\n",
    "        #\n",
    "        #\n",
    "        hid = self.proj1_1(batch)\n",
    "        \n",
    "        hid = F.relu(hid)\n",
    "                \n",
    "        return (self.proj2_1(hid),self.proj2_2(hid))\n",
    "        #\n",
    "        #"
   ]
  },
  {
   "cell_type": "code",
   "execution_count": 147,
   "metadata": {
    "ExecuteTime": {
     "end_time": "2020-10-30T00:25:13.650277Z",
     "start_time": "2020-10-30T00:25:13.600979Z"
    }
   },
   "outputs": [],
   "source": [
    "class GaussianPriorDecoder(nn.Module):\n",
    "    def __init__(self, input_dim, hidden_dim, output_dim):\n",
    "        super().__init__()\n",
    "        \n",
    "        \n",
    "        self.input_dim = input_dim\n",
    "        self.proj1 = nn.Linear(input_dim, hidden_dim)\n",
    "        self.proj2 = nn.Linear(hidden_dim, output_dim)\n",
    "\n",
    "        \n",
    "    def forward(self, batch):\n",
    "        \n",
    "        hid = self.proj1(batch)\n",
    "        hid = F.relu(hid)\n",
    "        \n",
    "        return self.proj2(hid)\n",
    "\n",
    "    \n",
    "    # n_samples: number of \"image output distribution\" to compute\n",
    "    def sample_distributions(self, n_samples):\n",
    "        # first you must sample from the prior,\n",
    "        # then you must pass the data through this network, i.e. self(z)\n",
    "        \n",
    "        # shape of z: (n_samples, input_dim)\n",
    "        z = torch.empty(n_samples, self.input_dim)\n",
    "        z = z.normal_()\n",
    "        z = self(z)\n",
    "        \n",
    "        return torch.sigmoid(z)\n",
    "        \n",
    "        \n",
    "    # sample images\n",
    "    def sample_images(self, n_samples, argmax=False):\n",
    "        # compute the output distributions for each image\n",
    "        # probs shape: (n_samples, output_dim)\n",
    "        probs = self.sample_distributions(n_samples)\n",
    "        \n",
    "        # then sample output pixels\n",
    "        # there are two modes:\n",
    "        # argmax=False: sample from the output distribution\n",
    "        # argmax=True: instead of sampling, return the most probable value for each random variable\n",
    "        # (check how the images are converted to binary images above!)\n",
    "        \n",
    "        samples = probs\n",
    "        \n",
    "        if argmax:\n",
    "            samples = 1*(samples >= 0.5)\n",
    "        else:\n",
    "            samples = torch.bernoulli(probs)\n",
    "            print(samples)\n",
    "        \n",
    "        \n",
    "            \n",
    "        return samples"
   ]
  },
  {
   "cell_type": "markdown",
   "metadata": {},
   "source": [
    "### Training loop\n",
    "\n",
    "I did most of the work, you just need to implement ont thing: the reparameterization trick! :)"
   ]
  },
  {
   "cell_type": "code",
   "execution_count": 148,
   "metadata": {
    "ExecuteTime": {
     "end_time": "2020-10-30T00:26:06.323091Z",
     "start_time": "2020-10-30T00:25:15.913574Z"
    }
   },
   "outputs": [
    {
     "name": "stdout",
     "output_type": "stream",
     "text": [
      "0 :\t -200.1054649609375 \t 6.561051360430717\n",
      "1 :\t -167.28248703125 \t 4.864255958251953\n",
      "2 :\t -161.6160725390625 \t 4.9615014733886715\n",
      "3 :\t -158.244949609375 \t 5.1250869689941405\n",
      "4 :\t -156.0998701953125 \t 5.228963533935547\n",
      "5 :\t -154.5759057421875 \t 5.32094069152832\n",
      "6 :\t -153.35617435546874 \t 5.369809020385742\n",
      "7 :\t -152.225038203125 \t 5.457478842163086\n",
      "8 :\t -151.3316028125 \t 5.476207459716797\n",
      "9 :\t -150.5281023828125 \t 5.560285611572265\n",
      "10 :\t -149.8373080078125 \t 5.608228458862305\n",
      "11 :\t -149.1780774609375 \t 5.618674791259766\n",
      "12 :\t -148.5654459765625 \t 5.657236576538086\n",
      "13 :\t -147.9845874609375 \t 5.709085018310547\n",
      "14 :\t -147.4419167578125 \t 5.760791492919922\n",
      "15 :\t -146.895057890625 \t 5.782781295166016\n",
      "16 :\t -146.409351484375 \t 5.812990882568359\n",
      "17 :\t -145.94344931640626 \t 5.84163758605957\n",
      "18 :\t -145.45159873046876 \t 5.883644556274414\n",
      "19 :\t -145.0244430078125 \t 5.922419197998047\n"
     ]
    }
   ],
   "source": [
    "dim_input = 28*28\n",
    "latent_dim = 2 # we use only 2 dimensions so we can plot them!\n",
    "hidden_dim = 256\n",
    "n_epoch = 20\n",
    "batch_dim = 256\n",
    "\n",
    "encoder = GaussianEncoder(dim_input, hidden_dim, latent_dim)\n",
    "decoder = GaussianPriorDecoder(latent_dim, hidden_dim, dim_input)\n",
    "\n",
    "# we must pass both network parameters to the optimizer\n",
    "# sometime its also useful to use two different optimizers,\n",
    "# for example if we want to use different learning rates.\n",
    "optimizer = torch.optim.Adam(list(encoder.parameters()) + list(decoder.parameters()))\n",
    "\n",
    "for epoch in range(n_epoch):\n",
    "    epoch_reconstruction = 0\n",
    "    epoch_kl = 0\n",
    "\n",
    "    decoder.train()\n",
    "    encoder.train()\n",
    "    for i in range(0, train_data_pixels.shape[0], batch_dim): \n",
    "        optimizer.zero_grad()\n",
    "        \n",
    "        batch = train_data_pixels[i:i+batch_dim]\n",
    "        \n",
    "        # compute parameters of the approximate posterior\n",
    "        mu, log_sigma_squared = encoder(batch)\n",
    "        \n",
    "        # for MC sampling of the reconstruction loss,\n",
    "        # we use one sample from the approximate posterior.\n",
    "        # you need to use the reparameterization trick for this!\n",
    "        # in order to sample from the the N(0, 1) distribution,\n",
    "        # you can use:\n",
    "        # torch.empty_like(mu).normal_(mean=0.,std=1.)\n",
    "        # (check the documentation if you don't understand this!)\n",
    "        \n",
    "\n",
    "        #\n",
    "        #\n",
    "        # TODO TODO TODO TODO TODO\n",
    "        #\n",
    "        #\n",
    "        \n",
    "        e = torch.empty_like(mu).normal_(mean=0.,std=1.)\n",
    "        z = e*(torch.sqrt(torch.exp(log_sigma_squared))) + mu\n",
    "        \n",
    "        # reconstruction_logits: (batches, classes, output size)\n",
    "        # note that the output of the network is in R,\n",
    "        # to get Bernoulli parameters you must use the sigmoid.\n",
    "        # For the reconstruction loss, you can either use:\n",
    "        # - F.binary_cross_entropy_with_logits\n",
    "        # - F.entropy_with_logits\n",
    "        # Read the doc in order to understand the difference!\n",
    "        # Warning: use the reduction=\"none\" parameter\n",
    "        reconstruction_logits = decoder(z)\n",
    "        reconstruction_loss = F.binary_cross_entropy_with_logits(\n",
    "            reconstruction_logits,\n",
    "            batch,\n",
    "            reduction=\"none\"\n",
    "        )\n",
    "        #print(reconstruction_loss)\n",
    "        kl_div = KL_with_gaussian_prior(mu, log_sigma_squared)\n",
    "        \n",
    "        # loss shape: (batch dim,)\n",
    "        # do you understand why we sum along this dimension only?\n",
    "        # there is a minus sign before reconstruction because\n",
    "        # the loss formula is -log etc, but in the elbo its +log\n",
    "        elbo = -reconstruction_loss.sum(1) - kl_div\n",
    "        \n",
    "        epoch_reconstruction += -reconstruction_loss.sum().item()\n",
    "        epoch_kl += kl_div.sum().item()\n",
    "        \n",
    "        # we want to maximize the ELBO,\n",
    "        # but Pytorch does minimization,\n",
    "        # so we define our loss as -ELBO\n",
    "        # and we mean over instances in the dataset\n",
    "        loss = -elbo.mean()\n",
    "        loss.backward()\n",
    "        \n",
    "        # optimization trick :)\n",
    "        # gradient clipping, so we don't take too big updates\n",
    "        torch.nn.utils.clip_grad_norm_(encoder.parameters(), 5)\n",
    "        torch.nn.utils.clip_grad_norm_(decoder.parameters(), 5)\n",
    "        \n",
    "        optimizer.step()\n",
    "        \n",
    "    print(\n",
    "        epoch, \":\\t\",\n",
    "        epoch_reconstruction / train_data_pixels.shape[0],\n",
    "        \"\\t\",\n",
    "        epoch_kl / train_data_pixels.shape[0]\n",
    "    )"
   ]
  },
  {
   "cell_type": "code",
   "execution_count": 149,
   "metadata": {
    "ExecuteTime": {
     "end_time": "2020-10-30T00:26:13.619448Z",
     "start_time": "2020-10-30T00:26:13.595155Z"
    }
   },
   "outputs": [
    {
     "data": {
      "text/plain": [
       "tensor([1.])"
      ]
     },
     "execution_count": 149,
     "metadata": {},
     "output_type": "execute_result"
    }
   ],
   "source": [
    "torch.bernoulli(torch.tensor([0.7]))"
   ]
  },
  {
   "cell_type": "markdown",
   "metadata": {},
   "source": [
    "We can now visualize the output distribution from random prior samples and generate new images."
   ]
  },
  {
   "cell_type": "code",
   "execution_count": 151,
   "metadata": {
    "ExecuteTime": {
     "end_time": "2020-10-30T00:27:45.441570Z",
     "start_time": "2020-10-30T00:27:45.267393Z"
    }
   },
   "outputs": [
    {
     "data": {
      "image/png": "[encoded data removed]",
      "text/plain": [
       "<Figure size 432x288 with 1 Axes>"
      ]
     },
     "metadata": {
      "needs_background": "light"
     },
     "output_type": "display_data"
    }
   ],
   "source": [
    "decoder.eval()\n",
    "\n",
    "with torch.no_grad():\n",
    "    # you can try true samples\n",
    "    # or useing argmax\n",
    "    samples = decoder.sample_distributions(1)\n",
    "    display_images(samples)"
   ]
  },
  {
   "cell_type": "code",
   "execution_count": 152,
   "metadata": {
    "ExecuteTime": {
     "end_time": "2020-10-30T00:27:49.384373Z",
     "start_time": "2020-10-30T00:27:49.342266Z"
    }
   },
   "outputs": [
    {
     "data": {
      "text/plain": [
       "tensor([[2.5673e-07, 4.4375e-07, 3.5097e-07, 3.8129e-07, 3.5660e-07, 1.3921e-07,\n",
       "         3.7849e-07, 3.4648e-07, 4.3297e-07, 3.6754e-07, 2.8903e-07, 3.2103e-07,\n",
       "         3.5204e-07, 2.0578e-04, 6.5634e-05, 1.7936e-07, 3.5511e-07, 4.4117e-07,\n",
       "         2.4156e-07, 3.5760e-07, 3.9252e-07, 2.9644e-07, 3.6977e-07, 2.2415e-07,\n",
       "         1.7183e-07, 1.8474e-07, 3.5530e-07, 2.8910e-07, 5.8412e-07, 4.5853e-07,\n",
       "         3.0901e-07, 2.7092e-07, 1.5685e-07, 2.0694e-07, 2.0653e-05, 4.5444e-05,\n",
       "         6.5853e-05, 3.9963e-05, 1.8625e-04, 1.0423e-03, 4.5195e-03, 9.1624e-03,\n",
       "         8.1117e-03, 8.2991e-03, 1.9961e-02, 7.1868e-03, 4.6909e-03, 1.5727e-03,\n",
       "         1.4093e-03, 2.5027e-04, 6.2122e-04, 6.7104e-05, 3.7322e-07, 1.8218e-07,\n",
       "         1.9642e-07, 3.0697e-07, 3.8345e-07, 5.8986e-07, 3.6751e-07, 2.4204e-07,\n",
       "         1.9776e-04, 1.7682e-07, 9.5933e-05, 2.1169e-04, 2.3666e-05, 2.8190e-04,\n",
       "         8.7745e-04, 5.3297e-03, 3.4463e-02, 1.2173e-01, 2.0967e-01, 2.8823e-01,\n",
       "         3.3976e-01, 2.0715e-01, 1.0836e-01, 4.0999e-02, 8.9423e-03, 3.3577e-03,\n",
       "         1.7409e-03, 8.8537e-04, 2.7315e-04, 2.3424e-04, 2.1612e-07, 7.1581e-07,\n",
       "         3.1329e-07, 3.1172e-07, 1.1819e-04, 2.8406e-07, 4.2826e-07, 1.9701e-04,\n",
       "         1.8947e-04, 3.5510e-04, 4.2187e-05, 2.6606e-04, 1.9204e-03, 1.5452e-02,\n",
       "         9.3953e-02, 2.8445e-01, 5.0006e-01, 5.9296e-01, 5.4450e-01, 4.4713e-01,\n",
       "         2.4625e-01, 9.4387e-02, 3.5555e-02, 1.1204e-02, 5.9782e-03, 8.8450e-04,\n",
       "         3.0947e-04, 1.2619e-04, 1.8073e-07, 2.6012e-07, 1.9080e-07, 3.8066e-07,\n",
       "         4.0167e-07, 2.5375e-07, 1.2733e-05, 1.0258e-04, 3.7089e-05, 1.7669e-04,\n",
       "         1.4475e-04, 8.4324e-04, 5.6504e-03, 5.6258e-02, 1.9910e-01, 4.8207e-01,\n",
       "         6.2696e-01, 6.5430e-01, 5.6652e-01, 4.0438e-01, 2.2112e-01, 1.1455e-01,\n",
       "         4.5611e-02, 1.9889e-02, 6.4821e-03, 3.2068e-03, 6.3701e-04, 6.0152e-05,\n",
       "         2.1015e-06, 2.7028e-07, 4.1459e-07, 3.2883e-07, 3.2316e-07, 2.3809e-04,\n",
       "         1.5423e-05, 7.9002e-05, 3.0309e-05, 2.4235e-05, 2.1768e-04, 3.2938e-03,\n",
       "         2.3598e-02, 1.1409e-01, 3.4998e-01, 5.6918e-01, 6.6095e-01, 6.3091e-01,\n",
       "         5.1715e-01, 3.4809e-01, 1.9219e-01, 1.1839e-01, 5.9687e-02, 2.2375e-02,\n",
       "         7.9280e-03, 3.4850e-03, 8.6594e-04, 2.0030e-04, 2.0185e-05, 3.4454e-07,\n",
       "         4.5226e-07, 2.8019e-07, 1.0923e-07, 3.3392e-06, 1.6105e-05, 1.8789e-05,\n",
       "         2.5891e-05, 7.3289e-05, 9.5136e-04, 6.4313e-03, 4.6936e-02, 2.3294e-01,\n",
       "         5.1828e-01, 6.6261e-01, 6.4222e-01, 5.1592e-01, 3.7979e-01, 2.3784e-01,\n",
       "         1.5792e-01, 1.0105e-01, 5.4461e-02, 2.6466e-02, 1.0441e-02, 3.0723e-03,\n",
       "         6.0182e-04, 2.5184e-05, 2.2398e-07, 1.0504e-06, 4.3071e-07, 1.2911e-05,\n",
       "         1.9359e-06, 3.1958e-06, 6.3966e-06, 2.3108e-05, 5.8194e-05, 3.4737e-04,\n",
       "         2.5062e-03, 1.9624e-02, 1.4669e-01, 4.2441e-01, 6.6689e-01, 6.9320e-01,\n",
       "         5.5554e-01, 3.6964e-01, 2.1387e-01, 1.6531e-01, 1.4108e-01, 9.7437e-02,\n",
       "         6.2138e-02, 2.9282e-02, 1.3604e-02, 5.4635e-03, 1.0260e-03, 1.1613e-04,\n",
       "         1.5241e-05, 3.6292e-05, 6.1473e-08, 1.2488e-08, 3.4202e-07, 4.6537e-07,\n",
       "         3.9413e-06, 1.9994e-05, 1.7158e-04, 1.0765e-03, 6.9856e-03, 7.1128e-02,\n",
       "         3.0294e-01, 6.3885e-01, 7.5574e-01, 6.6470e-01, 4.2837e-01, 2.0620e-01,\n",
       "         1.3816e-01, 1.3192e-01, 1.4833e-01, 1.3149e-01, 8.0832e-02, 3.4930e-02,\n",
       "         1.9197e-02, 9.1743e-03, 1.9391e-03, 4.8651e-05, 1.4513e-05, 1.1413e-06,\n",
       "         2.6505e-07, 1.2645e-08, 4.7019e-09, 9.8779e-07, 1.2242e-05, 7.1898e-05,\n",
       "         4.8686e-04, 2.1354e-03, 2.0804e-02, 1.6410e-01, 5.6988e-01, 8.0551e-01,\n",
       "         7.6608e-01, 5.5455e-01, 2.4115e-01, 1.2792e-01, 9.0661e-02, 1.1067e-01,\n",
       "         1.4329e-01, 1.7314e-01, 1.1336e-01, 5.7510e-02, 2.7348e-02, 1.3983e-02,\n",
       "         3.5680e-03, 3.4486e-04, 2.0377e-05, 4.9945e-07, 5.0891e-07, 2.7799e-07,\n",
       "         2.4477e-07, 3.8730e-06, 4.0617e-05, 1.8738e-04, 1.0411e-03, 6.5354e-03,\n",
       "         5.9049e-02, 3.6491e-01, 7.6979e-01, 8.1964e-01, 6.3832e-01, 3.2552e-01,\n",
       "         1.2713e-01, 8.1863e-02, 8.1799e-02, 1.1939e-01, 1.6859e-01, 2.2869e-01,\n",
       "         1.8420e-01, 8.2407e-02, 3.5081e-02, 1.8061e-02, 7.2390e-03, 6.9430e-04,\n",
       "         1.1862e-04, 6.6677e-07, 7.3443e-08, 1.3760e-08, 7.6716e-09, 1.3791e-05,\n",
       "         1.0519e-04, 4.3504e-04, 2.0304e-03, 1.6623e-02, 1.4211e-01, 5.7611e-01,\n",
       "         8.4372e-01, 7.6811e-01, 4.4659e-01, 1.6159e-01, 9.9814e-02, 8.5728e-02,\n",
       "         1.2397e-01, 2.0483e-01, 2.7503e-01, 3.1687e-01, 2.6155e-01, 1.3433e-01,\n",
       "         4.9515e-02, 2.8300e-02, 1.2121e-02, 1.4119e-03, 2.5257e-04, 6.3194e-05,\n",
       "         2.8010e-07, 9.6022e-08, 1.3826e-07, 1.4854e-05, 2.4210e-04, 1.0627e-03,\n",
       "         6.6525e-03, 3.9773e-02, 2.8485e-01, 7.5017e-01, 8.2345e-01, 6.7326e-01,\n",
       "         2.7173e-01, 1.2542e-01, 1.0480e-01, 1.8989e-01, 2.9339e-01, 3.9010e-01,\n",
       "         4.6115e-01, 4.8744e-01, 4.0605e-01, 2.2234e-01, 9.2784e-02, 3.8384e-02,\n",
       "         2.3079e-02, 1.9897e-03, 5.5421e-04, 7.2063e-05, 2.8555e-07, 9.3644e-07,\n",
       "         2.8812e-07, 2.5859e-05, 9.0311e-04, 4.3733e-03, 1.3577e-02, 8.5062e-02,\n",
       "         4.4412e-01, 7.8580e-01, 7.9321e-01, 5.2654e-01, 2.1997e-01, 1.5123e-01,\n",
       "         2.4944e-01, 4.0273e-01, 5.4132e-01, 5.6884e-01, 6.1495e-01, 6.2268e-01,\n",
       "         5.5222e-01, 3.6561e-01, 1.5777e-01, 5.5017e-02, 2.8678e-02, 3.8154e-03,\n",
       "         5.1010e-04, 3.7382e-05, 2.1349e-07, 1.0920e-06, 8.2451e-07, 1.0175e-04,\n",
       "         1.4826e-03, 1.1244e-02, 2.6777e-02, 1.6421e-01, 5.4615e-01, 8.0290e-01,\n",
       "         7.4554e-01, 4.6540e-01, 2.7078e-01, 3.1089e-01, 4.9626e-01, 6.1295e-01,\n",
       "         6.3516e-01, 6.0041e-01, 6.3142e-01, 6.4674e-01, 6.2707e-01, 4.3506e-01,\n",
       "         2.1236e-01, 7.6814e-02, 3.0091e-02, 2.8744e-03, 5.5889e-04, 5.7666e-07,\n",
       "         2.2424e-07, 8.3029e-06, 3.8362e-06, 2.7189e-04, 6.5252e-03, 2.2522e-02,\n",
       "         5.7973e-02, 2.5198e-01, 6.3447e-01, 8.1841e-01, 7.2780e-01, 4.8284e-01,\n",
       "         3.6630e-01, 4.6658e-01, 6.1055e-01, 6.5405e-01, 5.5688e-01, 5.0558e-01,\n",
       "         5.4667e-01, 6.2933e-01, 6.5311e-01, 5.1227e-01, 2.5480e-01, 1.0025e-01,\n",
       "         1.6727e-02, 3.1022e-03, 6.1072e-04, 5.7850e-05, 2.2461e-07, 2.9567e-07,\n",
       "         2.1303e-04, 9.0267e-04, 1.6599e-02, 3.9741e-02, 9.6816e-02, 3.1800e-01,\n",
       "         6.5504e-01, 8.2265e-01, 7.4526e-01, 5.3658e-01, 4.6835e-01, 5.5609e-01,\n",
       "         5.9821e-01, 5.4946e-01, 4.0111e-01, 4.0582e-01, 4.8690e-01, 6.4285e-01,\n",
       "         6.8821e-01, 5.1096e-01, 2.4292e-01, 7.1504e-02, 1.3743e-02, 2.9802e-03,\n",
       "         4.6321e-04, 1.8806e-05, 5.4014e-07, 8.7898e-07, 1.2714e-04, 2.0582e-03,\n",
       "         2.4065e-02, 5.4215e-02, 1.0935e-01, 3.2073e-01, 6.4241e-01, 7.9952e-01,\n",
       "         7.4496e-01, 6.2207e-01, 5.4876e-01, 6.0908e-01, 5.8577e-01, 4.8828e-01,\n",
       "         3.7015e-01, 3.8478e-01, 5.9482e-01, 7.4508e-01, 7.0823e-01, 4.7060e-01,\n",
       "         1.7112e-01, 4.2430e-02, 8.1194e-03, 1.8406e-03, 5.1478e-04, 3.9356e-07,\n",
       "         1.8176e-07, 3.5880e-07, 8.6609e-05, 2.4123e-03, 1.8284e-02, 5.2613e-02,\n",
       "         9.5088e-02, 2.9143e-01, 6.0587e-01, 7.6615e-01, 7.6665e-01, 7.5226e-01,\n",
       "         6.8252e-01, 6.5058e-01, 5.7610e-01, 5.0503e-01, 5.0113e-01, 6.4048e-01,\n",
       "         7.6968e-01, 7.9712e-01, 6.0087e-01, 2.8074e-01, 7.6847e-02, 1.5004e-02,\n",
       "         6.0968e-03, 2.0627e-03, 2.2852e-04, 3.1206e-05, 6.8883e-07, 5.1602e-07,\n",
       "         1.0084e-04, 2.8689e-03, 1.5892e-02, 3.7831e-02, 7.3756e-02, 2.2947e-01,\n",
       "         4.8101e-01, 7.0956e-01, 8.1259e-01, 8.1378e-01, 7.8742e-01, 7.2490e-01,\n",
       "         6.8369e-01, 6.8972e-01, 7.3900e-01, 8.1872e-01, 8.2323e-01, 6.8366e-01,\n",
       "         3.7251e-01, 1.1479e-01, 2.5357e-02, 6.7252e-03, 3.4218e-03, 8.2988e-04,\n",
       "         2.2182e-04, 5.6897e-06, 3.4971e-07, 1.9377e-05, 4.9949e-05, 1.5033e-03,\n",
       "         1.2155e-02, 2.3905e-02, 5.4280e-02, 1.1952e-01, 3.0399e-01, 5.4715e-01,\n",
       "         7.1343e-01, 7.9447e-01, 7.9942e-01, 8.0614e-01, 8.2470e-01, 8.1679e-01,\n",
       "         8.1854e-01, 7.8256e-01, 6.1968e-01, 3.9977e-01, 1.3740e-01, 2.7272e-02,\n",
       "         6.5602e-03, 2.6212e-03, 1.9105e-03, 6.2572e-04, 4.6614e-04, 4.0557e-07,\n",
       "         2.7567e-07, 1.2381e-05, 1.5655e-04, 9.9786e-04, 6.0146e-03, 1.4180e-02,\n",
       "         2.8365e-02, 5.0359e-02, 1.1784e-01, 2.7505e-01, 4.2105e-01, 5.4908e-01,\n",
       "         6.6212e-01, 7.3815e-01, 7.5041e-01, 7.4676e-01, 6.5222e-01, 4.8401e-01,\n",
       "         2.6090e-01, 8.6173e-02, 2.2376e-02, 4.7588e-03, 1.5140e-03, 8.2710e-04,\n",
       "         6.9505e-04, 1.7496e-04, 6.1384e-04, 2.2103e-07, 3.2767e-07, 2.2669e-07,\n",
       "         3.6813e-05, 4.4951e-04, 2.8812e-03, 6.5280e-03, 1.5345e-02, 2.3478e-02,\n",
       "         4.6658e-02, 7.7853e-02, 1.3550e-01, 1.7017e-01, 2.3596e-01, 2.8697e-01,\n",
       "         3.2207e-01, 2.9023e-01, 2.2545e-01, 1.0211e-01, 3.7048e-02, 9.4883e-03,\n",
       "         3.1712e-03, 7.0394e-04, 2.8449e-04, 6.3770e-04, 4.2460e-04, 9.6256e-05,\n",
       "         1.6723e-04, 1.8304e-07, 3.7954e-07, 3.6707e-07, 9.3399e-06, 4.1199e-05,\n",
       "         9.8960e-04, 2.8904e-03, 4.8331e-03, 9.7339e-03, 1.7802e-02, 3.0514e-02,\n",
       "         5.0687e-02, 7.5352e-02, 8.7527e-02, 8.0791e-02, 7.0472e-02, 5.0643e-02,\n",
       "         2.7959e-02, 9.9632e-03, 2.9269e-03, 7.5994e-04, 2.2623e-04, 8.4744e-05,\n",
       "         7.5909e-05, 2.4908e-04, 2.7958e-04, 6.2154e-05, 1.4829e-07, 3.4119e-07,\n",
       "         2.7177e-07, 2.9462e-07, 1.9935e-06, 1.0795e-05, 2.8702e-04, 3.5529e-04,\n",
       "         7.6094e-04, 1.3548e-03, 2.6380e-03, 5.6566e-03, 1.0857e-02, 1.4972e-02,\n",
       "         1.4864e-02, 1.6822e-02, 1.4031e-02, 6.1632e-03, 2.8689e-03, 8.0734e-04,\n",
       "         9.1522e-05, 2.2410e-05, 1.1970e-05, 1.8075e-05, 5.0297e-05, 2.5728e-04,\n",
       "         7.3296e-05, 1.6620e-05, 5.2537e-07, 3.2405e-07, 2.2497e-07, 6.0388e-07,\n",
       "         2.8445e-07, 4.0458e-06, 3.3774e-07, 3.5182e-07, 3.6831e-06, 1.3481e-05,\n",
       "         5.4269e-05, 3.9158e-04, 1.1398e-03, 6.9639e-04, 4.2546e-04, 3.9163e-04,\n",
       "         2.8466e-04, 3.0014e-04, 1.2131e-04, 6.5218e-05, 2.3261e-06, 7.9255e-08,\n",
       "         1.2480e-06, 2.3186e-06, 8.7305e-06, 1.3390e-04, 4.1241e-05, 1.5066e-07,\n",
       "         2.8695e-07, 2.9399e-07, 2.7967e-07, 3.4302e-07, 1.3226e-07, 2.2726e-07,\n",
       "         1.5995e-07, 2.0438e-08, 3.9980e-08, 4.2507e-08, 2.4366e-08, 4.6267e-07,\n",
       "         9.5827e-07, 2.4968e-07, 4.5918e-09, 1.2604e-06, 4.3070e-07, 3.8107e-10,\n",
       "         4.5121e-11, 2.5266e-09, 1.5584e-09, 2.1307e-10, 1.5481e-08, 4.5477e-07,\n",
       "         2.1000e-05, 2.5842e-05, 3.9652e-07, 2.1950e-07, 3.0754e-07, 2.3702e-07,\n",
       "         3.1983e-07, 4.0301e-07, 4.0510e-07, 3.9094e-07, 5.0979e-07, 1.3469e-07,\n",
       "         1.7983e-07, 8.0779e-08, 2.1223e-07, 7.4369e-08, 1.9288e-08, 4.9623e-09,\n",
       "         9.2182e-09, 3.6387e-10, 2.8397e-10, 5.4482e-11, 1.2128e-10, 7.1233e-11,\n",
       "         2.8588e-09, 5.9064e-09, 4.4083e-07, 6.6294e-06, 3.7435e-05, 2.7404e-07,\n",
       "         1.7561e-07, 3.4996e-07, 4.4241e-07, 6.3680e-07]])"
      ]
     },
     "execution_count": 152,
     "metadata": {},
     "output_type": "execute_result"
    }
   ],
   "source": [
    "samples"
   ]
  },
  {
   "cell_type": "code",
   "execution_count": 136,
   "metadata": {
    "ExecuteTime": {
     "end_time": "2020-10-30T00:00:47.280954Z",
     "start_time": "2020-10-30T00:00:46.777615Z"
    }
   },
   "outputs": [
    {
     "data": {
      "image/png": "[encoded data removed]",
      "text/plain": [
       "<Figure size 432x288 with 1 Axes>"
      ]
     },
     "metadata": {
      "needs_background": "light"
     },
     "output_type": "display_data"
    },
    {
     "data": {
      "image/png": "[encoded data removed]",
      "text/plain": [
       "<Figure size 432x288 with 1 Axes>"
      ]
     },
     "metadata": {
      "needs_background": "light"
     },
     "output_type": "display_data"
    },
    {
     "data": {
      "image/png": "[encoded data removed]",
      "text/plain": [
       "<Figure size 432x288 with 1 Axes>"
      ]
     },
     "metadata": {
      "needs_background": "light"
     },
     "output_type": "display_data"
    }
   ],
   "source": [
    "decoder.eval()\n",
    "\n",
    "with torch.no_grad():\n",
    "    # you can try true samples\n",
    "    # or useing argmax\n",
    "    samples = decoder.sample_images(3, argmax=True)\n",
    "    display_images(samples)"
   ]
  },
  {
   "cell_type": "markdown",
   "metadata": {},
   "source": [
    "Using the approximate posterior, we can visualize the latent space, by assigning one color per digit.\n",
    "What we display is the mean value.\n",
    "For a well trained model, we should see all points close to 0 and each class should be well delimited, i.e. there must be clusters of the same color.\n",
    "\n",
    "If your samples and latent space are ugly, you could try to improve your model by:\n",
    "\n",
    "- change the learning hyperparameters\n",
    "- add/remove dropout\n",
    "- change the network structure (number and size of layers, dropout...)\n",
    "\n",
    "Note that if you want to visualize a latent space when its dimension is greater than two, you could project it in 2 dimensions using PCA (its already implemented in scikit-learn!)"
   ]
  },
  {
   "cell_type": "code",
   "execution_count": 137,
   "metadata": {
    "ExecuteTime": {
     "end_time": "2020-10-30T00:00:49.673856Z",
     "start_time": "2020-10-30T00:00:49.657835Z"
    }
   },
   "outputs": [],
   "source": [
    "from sklearn.decomposition import PCA\n",
    "pca = PCA(n_components=2)"
   ]
  },
  {
   "cell_type": "code",
   "execution_count": 139,
   "metadata": {
    "ExecuteTime": {
     "end_time": "2020-10-30T00:01:02.559615Z",
     "start_time": "2020-10-30T00:01:00.147409Z"
    }
   },
   "outputs": [
    {
     "data": {
      "image/png": "[encoded data removed]",
      "text/plain": [
       "<Figure size 432x288 with 1 Axes>"
      ]
     },
     "metadata": {
      "needs_background": "light"
     },
     "output_type": "display_data"
    }
   ],
   "source": [
    "decoder.eval()\n",
    "\n",
    "# tensor that will contain all latent points\n",
    "points = np.empty((train_data_pixels.shape[0], 2))\n",
    "with torch.no_grad():\n",
    "    for i in range(0, train_data_pixels.shape[0], batch_dim): \n",
    "        batch = train_data_pixels[i:i+batch_dim]\n",
    "        mu,sigma = encoder(batch)\n",
    "        points[i:i+batch_dim] = mu.numpy()\n",
    "\n",
    "#pca.fit(points)\n",
    "#points_PCA = pca.transform(points)\n",
    "plt.scatter(\n",
    "    points[:,0], points[:, 1],\n",
    "    # colormap is between 0 and 1, and we have 10 classes\n",
    "    # so we just divide by 10 :)\n",
    "    # https://matplotlib.org/3.1.1/tutorials/colors/colormaps.html\n",
    "    c=matplotlib.cm.get_cmap(\"tab10\")(train_data_classes / 10.)\n",
    ")\n",
    "plt.show()"
   ]
  },
  {
   "cell_type": "markdown",
   "metadata": {},
   "source": [
    "## 3. VAE with binary latent space and binary observed space\n",
    "\n",
    "The second VAE that we will develop is based on the same generative story:\n",
    "\n",
    "1. $z \\sim p(z)$\n",
    "2. $x \\sim p(x | z ; \\theta)$\n",
    "\n",
    "but where the latent variable $Z$ are independent Bernoulli random variables.\n",
    "See the last video from the course to understand how this change the model.\n",
    "\n",
    "### Architecture\n",
    "\n",
    "How many values should the encoder return? What is the difference with the previous encoder?"
   ]
  },
  {
   "cell_type": "code",
   "execution_count": 69,
   "metadata": {
    "ExecuteTime": {
     "end_time": "2020-10-29T21:05:27.454108Z",
     "start_time": "2020-10-29T21:05:27.415817Z"
    }
   },
   "outputs": [],
   "source": [
    "class BernoulliEncoder(nn.Module):\n",
    "    def __init__(self, input_dim, hidden_dim, output_dim):\n",
    "        super().__init__()\n",
    "\n",
    "        self.proj1 = nn.Linear(input_dim, hidden_dim)\n",
    "        self.proj2 = nn.Linear(hidden_dim, output_dim)\n",
    "        \n",
    "    def forward(self, batch):\n",
    "\n",
    "        hid = self.proj1(batch)\n",
    "        \n",
    "        hid = F.relu(hid)\n",
    "          \n",
    "        return self.proj2(hid)\n",
    "    "
   ]
  },
  {
   "cell_type": "code",
   "execution_count": 70,
   "metadata": {
    "ExecuteTime": {
     "end_time": "2020-10-29T21:05:27.909682Z",
     "start_time": "2020-10-29T21:05:27.899274Z"
    }
   },
   "outputs": [],
   "source": [
    "class BernoulliPriorDecoder(nn.Module):\n",
    "    def __init__(self, input_dim, hidden_dim, output_dim):\n",
    "        super().__init__()\n",
    "        \n",
    "        self.input_dim = input_dim\n",
    "        self.proj1 = nn.Linear(input_dim, hidden_dim)\n",
    "        self.proj2 = nn.Linear(hidden_dim, output_dim)\n",
    "        \n",
    "    def forward(self, batch):\n",
    "        \n",
    "        hid = self.proj1(batch)\n",
    "        \n",
    "        hid = F.relu(hid)\n",
    "          \n",
    "        return self.proj2(hid)\n",
    "    \n",
    "    def sample_distributions(self, n_samples):\n",
    "        \n",
    "        z = torch.zeros(n_samples, self.input_dim)\n",
    "        z = z + torch.tensor([0.5])\n",
    "        z = torch.bernoulli(z)\n",
    "        z = self(z)\n",
    "        \n",
    "        return torch.sigmoid(z)\n",
    "    \n",
    "    def sample_images(self, n_samples, argmax=False):\n",
    "        \n",
    "        probs = self.sample_distributions(n_samples)\n",
    "        \n",
    "        # then sample output pixels\n",
    "        # there are two modes:\n",
    "        # argmax=False: sample from the output distribution\n",
    "        # argmax=True: instead of sampling, return the most probable value for each random variable\n",
    "        # (check how the images are converted to binary images above!)\n",
    "        \n",
    "        samples = probs\n",
    "        \n",
    "        if argmax:\n",
    "            samples = 1*(samples >= 0.5)\n",
    "        else:\n",
    "            samples = torch.bernoulli(probs)\n",
    "        \n",
    "        \n",
    "            \n",
    "        return samples"
   ]
  },
  {
   "cell_type": "markdown",
   "metadata": {},
   "source": [
    "### KL divergence\n",
    "\n",
    "We assume the prior are Bernoullis with parameter 0.5, i.e. the probability to sample 0 or 1 are equals (\"fait coin\" probability).\n",
    "What the formula of the KL divergence? How does it simplify?\n",
    "\n",
    "Hint: you should see an entropy term in it that you can compute via https://pytorch.org/docs/stable/distributions.html#torch.distributions.bernoulli.Bernoulli.entropy"
   ]
  },
  {
   "cell_type": "code",
   "execution_count": 71,
   "metadata": {
    "ExecuteTime": {
     "end_time": "2020-10-29T21:05:29.160651Z",
     "start_time": "2020-10-29T21:05:28.885181Z"
    }
   },
   "outputs": [
    {
     "name": "stdout",
     "output_type": "stream",
     "text": [
      "return dim is ok.\n",
      "Should be 0: 0.0\n",
      "Should be 0.693...: 0.6931471824645996\n"
     ]
    }
   ],
   "source": [
    "# the shapes of mu and log_sigma_squared are: (n batch, n latent)\n",
    "# the return vector must be of shape: (n batch,)\n",
    "import math\n",
    "\n",
    "def KL_with_bernoulli_prior(probs):\n",
    "    \n",
    "    KL = torch.sum((probs*torch.log(probs+1e-13)+(1-probs)*torch.log(1-probs+1e-13) + torch.log(torch.tensor([2.]))), axis=1)\n",
    "    \n",
    "    return KL\n",
    "\n",
    "# test for shape\n",
    "probs = torch.rand((10, 30))\n",
    "\n",
    "if KL_with_bernoulli_prior(probs).shape != (10, ):\n",
    "    raise RuntimeError(\"Invalid return dim!\")\n",
    "else:\n",
    "    print(\"return dim is ok.\")\n",
    "    \n",
    "# test for return value\n",
    "# result should be 0 as it is equal to the prior\n",
    "print(\"Should be 0:\", KL_with_bernoulli_prior(torch.tensor([[0.5, 0.5]])).item())\n",
    "print(\"Should be 0.693...:\", KL_with_bernoulli_prior(torch.tensor([[1.]])).item())"
   ]
  },
  {
   "cell_type": "code",
   "execution_count": 72,
   "metadata": {
    "ExecuteTime": {
     "end_time": "2020-10-29T21:05:29.508417Z",
     "start_time": "2020-10-29T21:05:29.306080Z"
    }
   },
   "outputs": [
    {
     "data": {
      "text/plain": [
       "tensor(0.5981)"
      ]
     },
     "execution_count": 72,
     "metadata": {},
     "output_type": "execute_result"
    }
   ],
   "source": [
    "F.cross_entropy(torch.tensor([[0.4,0.6]]),torch.tensor([1]))"
   ]
  },
  {
   "cell_type": "code",
   "execution_count": 73,
   "metadata": {
    "ExecuteTime": {
     "end_time": "2020-10-29T21:05:30.089509Z",
     "start_time": "2020-10-29T21:05:30.079715Z"
    }
   },
   "outputs": [
    {
     "data": {
      "text/plain": [
       "-0.6730116670092565"
      ]
     },
     "execution_count": 73,
     "metadata": {},
     "output_type": "execute_result"
    }
   ],
   "source": [
    "a = 0.4\n",
    "a*np.log(a)+(1-a)*np.log(1-a)"
   ]
  },
  {
   "cell_type": "code",
   "execution_count": 74,
   "metadata": {
    "ExecuteTime": {
     "end_time": "2020-10-29T21:05:30.712252Z",
     "start_time": "2020-10-29T21:05:30.706534Z"
    }
   },
   "outputs": [
    {
     "data": {
      "text/plain": [
       "1e-13"
      ]
     },
     "execution_count": 74,
     "metadata": {},
     "output_type": "execute_result"
    }
   ],
   "source": [
    "1e-13"
   ]
  },
  {
   "cell_type": "markdown",
   "metadata": {},
   "source": [
    "### Training loop\n",
    "\n",
    "This time I let you on your own! :) \n",
    "Remember that you need to use the Score Function Estimator trick! (see the last video of the course)\n",
    "\n",
    "You need to use a baseline to stabilize the variance of the estimator.\n",
    "Here, we will rely on the average reconstruction value from all previous update.\n",
    "You can easily store it and compute it using the running average trick:"
   ]
  },
  {
   "cell_type": "code",
   "execution_count": 75,
   "metadata": {
    "ExecuteTime": {
     "end_time": "2020-10-29T21:05:31.881689Z",
     "start_time": "2020-10-29T21:05:31.876902Z"
    }
   },
   "outputs": [
    {
     "name": "stdout",
     "output_type": "stream",
     "text": [
      "7.0\n",
      "7.0\n"
     ]
    }
   ],
   "source": [
    "n1 = 5\n",
    "n2 = 10\n",
    "n3 = 1\n",
    "n4 = 12\n",
    "\n",
    "print((n1 + n2 + n3 + n4) / 4)\n",
    "\n",
    "running_average = 0\n",
    "\n",
    "# after the first parameter update\n",
    "n_updates = 1\n",
    "running_average += (n1 - running_average) / n_updates\n",
    "\n",
    "# after the second parameter update\n",
    "n_updates += 1\n",
    "running_average += (n2 - running_average) / n_updates\n",
    "\n",
    "# etc etc\n",
    "n_updates += 1\n",
    "running_average += (n3 - running_average) / n_updates\n",
    "\n",
    "n_updates += 1\n",
    "running_average += (n4 - running_average) / n_updates\n",
    "\n",
    "# should be equal to the previous printed value!\n",
    "print(running_average)"
   ]
  },
  {
   "cell_type": "code",
   "execution_count": 91,
   "metadata": {
    "ExecuteTime": {
     "end_time": "2020-10-29T21:27:17.211112Z",
     "start_time": "2020-10-29T21:23:14.204006Z"
    }
   },
   "outputs": [
    {
     "name": "stdout",
     "output_type": "stream",
     "text": [
      "0 :\t -220.441833359375 \t 2.0339523522758483\n",
      "1 :\t -198.871506328125 \t 4.219882551879882\n",
      "2 :\t -197.804968671875 \t 3.0456532287597655\n",
      "3 :\t -195.453923671875 \t 3.9025229553222656\n",
      "4 :\t -195.29835890625 \t 3.529618993225098\n",
      "5 :\t -194.2037187890625 \t 3.713418812866211\n",
      "6 :\t -194.09383765625 \t 3.530776241455078\n",
      "7 :\t -193.79239244140626 \t 2.4517729895019533\n",
      "8 :\t -190.65178529296875 \t 3.4186074542236327\n",
      "9 :\t -193.98884548828124 \t 1.9082407583618164\n",
      "10 :\t -193.3687475390625 \t 1.6112027865600587\n",
      "11 :\t -190.7018405078125 \t 2.0660987139892577\n",
      "12 :\t -191.7384381640625 \t 2.0207788272094724\n",
      "13 :\t -192.032085 \t 1.9090714486694336\n",
      "14 :\t -190.11698126953124 \t 2.3916061322021482\n",
      "15 :\t -184.831416875 \t 4.249583813476563\n",
      "16 :\t -183.29732931640626 \t 5.075708369140625\n",
      "17 :\t -183.724393046875 \t 4.996985040283203\n",
      "18 :\t -182.76132970703125 \t 5.527216713256836\n",
      "19 :\t -185.83665671875 \t 3.458086994934082\n"
     ]
    }
   ],
   "source": [
    "dim_input = 28*28\n",
    "latent = 64\n",
    "hidden_dim = 400\n",
    "n_epoch = 20\n",
    "batch_dim = 256\n",
    "\n",
    "encoder = BernoulliEncoder(dim_input, hidden_dim, latent)\n",
    "decoder = BernoulliPriorDecoder(latent, hidden_dim, dim_input)\n",
    "optimizer = torch.optim.Adam(list(encoder.parameters()) + list(decoder.parameters()))\n",
    "\n",
    "running_avg = 0  # to control the variance of the SFE\n",
    "n_updates = 0\n",
    "for epoch in range(n_epoch):\n",
    "    epoch_reconstruction = 0\n",
    "    epoch_kl = 0\n",
    "    \n",
    "    decoder.train()\n",
    "    encoder.train()\n",
    "    for i in range(0, train_data_pixels.shape[0], batch_dim): \n",
    "        optimizer.zero_grad()\n",
    "        \n",
    "        batch = train_data_pixels[i:i+batch_dim]\n",
    "        \n",
    "        probs = encoder(batch)\n",
    "        z = torch.bernoulli(torch.sigmoid(probs))\n",
    "        log_probs = F.binary_cross_entropy_with_logits(\n",
    "            probs,\n",
    "            z,\n",
    "            reduction=\"none\"\n",
    "        )\n",
    "        \n",
    "        reconstruction_logits = decoder(z)\n",
    "        reconstruction_loss = F.binary_cross_entropy_with_logits(\n",
    "            reconstruction_logits,\n",
    "            batch,\n",
    "            reduction=\"none\"\n",
    "        )\n",
    "        #print(reconstruction_loss)\n",
    "        kl_div = KL_with_bernoulli_prior(torch.sigmoid(probs))\n",
    "        \n",
    "        # loss shape: (batch dim,)\n",
    "        # do you understand why we sum along this dimension only?\n",
    "        # there is a minus sign before reconstruction because\n",
    "        # the loss formula is -log etc, but in the elbo its +log\n",
    "        \n",
    "        running_avg += -reconstruction_loss.sum(1).mean()/(n_updates + 1)\n",
    "\n",
    "        elbo = -reconstruction_loss.sum(1) - 10*kl_div + (-reconstruction_loss.sum(1) - running_avg).detach()*(-log_probs.sum(1))\n",
    "        \n",
    "        #print(kl_div)\n",
    "        \n",
    "        epoch_reconstruction += -reconstruction_loss.sum().item()\n",
    "        epoch_kl += kl_div.sum().item()\n",
    "        \n",
    "        \n",
    "        loss = -elbo.mean()\n",
    "        loss.backward()\n",
    "        torch.nn.utils.clip_grad_norm_(encoder.parameters(), 5)\n",
    "        torch.nn.utils.clip_grad_norm_(decoder.parameters(), 5)\n",
    "        optimizer.step()\n",
    "        n_updates += 1\n",
    "        \n",
    "        # update the running_avg\n",
    "        #\n",
    "        #\n",
    "        # TODO TODO TODO TODO TODO\n",
    "        #\n",
    "        #\n",
    "\n",
    "        \n",
    "    print(\n",
    "        epoch, \":\\t\",\n",
    "        epoch_reconstruction / train_data_pixels.shape[0],\n",
    "        \"\\t\",\n",
    "        epoch_kl / train_data_pixels.shape[0],\n",
    "    )"
   ]
  },
  {
   "cell_type": "code",
   "execution_count": 98,
   "metadata": {
    "ExecuteTime": {
     "end_time": "2020-10-29T23:27:10.178877Z",
     "start_time": "2020-10-29T23:27:09.654018Z"
    }
   },
   "outputs": [],
   "source": [
    "latent_probs = torch.sigmoid(encoder(train_data_pixels)).detach().numpy()"
   ]
  },
  {
   "cell_type": "code",
   "execution_count": 121,
   "metadata": {
    "ExecuteTime": {
     "end_time": "2020-10-29T23:36:52.624038Z",
     "start_time": "2020-10-29T23:36:52.616240Z"
    }
   },
   "outputs": [
    {
     "data": {
      "text/plain": [
       "(50000,)"
      ]
     },
     "execution_count": 121,
     "metadata": {},
     "output_type": "execute_result"
    }
   ],
   "source": [
    "latent_probs[:,0].shape"
   ]
  },
  {
   "cell_type": "code",
   "execution_count": 125,
   "metadata": {
    "ExecuteTime": {
     "end_time": "2020-10-29T23:37:43.434461Z",
     "start_time": "2020-10-29T23:37:38.583027Z"
    }
   },
   "outputs": [
    {
     "data": {
      "image/png": "[encoded data removed]",
      "text/plain": [
       "<Figure size 432x288 with 1 Axes>"
      ]
     },
     "metadata": {
      "needs_background": "light"
     },
     "output_type": "display_data"
    }
   ],
   "source": [
    "plt.hist(latent_probs,51)\n",
    "plt.show()"
   ]
  },
  {
   "cell_type": "code",
   "execution_count": 94,
   "metadata": {
    "ExecuteTime": {
     "end_time": "2020-10-29T22:47:18.476446Z",
     "start_time": "2020-10-29T22:47:17.529135Z"
    }
   },
   "outputs": [
    {
     "data": {
      "image/png": "[encoded data removed]",
      "text/plain": [
       "<Figure size 432x288 with 1 Axes>"
      ]
     },
     "metadata": {
      "needs_background": "light"
     },
     "output_type": "display_data"
    },
    {
     "data": {
      "image/png": "[encoded data removed]",
      "text/plain": [
       "<Figure size 432x288 with 1 Axes>"
      ]
     },
     "metadata": {
      "needs_background": "light"
     },
     "output_type": "display_data"
    },
    {
     "data": {
      "image/png": "[encoded data removed]",
      "text/plain": [
       "<Figure size 432x288 with 1 Axes>"
      ]
     },
     "metadata": {
      "needs_background": "light"
     },
     "output_type": "display_data"
    },
    {
     "data": {
      "image/png": "[encoded data removed]",
      "text/plain": [
       "<Figure size 432x288 with 1 Axes>"
      ]
     },
     "metadata": {
      "needs_background": "light"
     },
     "output_type": "display_data"
    },
    {
     "data": {
      "image/png": "[encoded data removed]",
      "text/plain": [
       "<Figure size 432x288 with 1 Axes>"
      ]
     },
     "metadata": {
      "needs_background": "light"
     },
     "output_type": "display_data"
    }
   ],
   "source": [
    "decoder.eval()\n",
    "\n",
    "with torch.no_grad():\n",
    "    samples = decoder.sample_distributions(5)\n",
    "    display_images(samples)"
   ]
  },
  {
   "cell_type": "code",
   "execution_count": 82,
   "metadata": {
    "ExecuteTime": {
     "end_time": "2020-10-29T21:11:24.989454Z",
     "start_time": "2020-10-29T21:11:24.982912Z"
    }
   },
   "outputs": [
    {
     "name": "stdout",
     "output_type": "stream",
     "text": [
      "tensor([[0.5000, 0.5000, 0.5000],\n",
      "        [0.5000, 0.5000, 0.5000],\n",
      "        [0.5000, 0.5000, 0.5000]])\n",
      "tensor([[1., 0., 1.],\n",
      "        [0., 0., 0.],\n",
      "        [0., 1., 1.]])\n"
     ]
    }
   ],
   "source": [
    "z = torch.zeros(3,3)\n",
    "z += torch.tensor([0.5])\n",
    "print(z)\n",
    "z = torch.bernoulli(z)\n",
    "print(z)\n"
   ]
  },
  {
   "cell_type": "code",
   "execution_count": 126,
   "metadata": {
    "ExecuteTime": {
     "end_time": "2020-10-29T23:40:04.287753Z",
     "start_time": "2020-10-29T23:39:59.929721Z"
    }
   },
   "outputs": [
    {
     "data": {
      "image/png": "[encoded data removed]",
      "text/plain": [
       "<Figure size 432x288 with 1 Axes>"
      ]
     },
     "metadata": {
      "needs_background": "light"
     },
     "output_type": "display_data"
    },
    {
     "data": {
      "image/png": "[encoded data removed]",
      "text/plain": [
       "<Figure size 432x288 with 1 Axes>"
      ]
     },
     "metadata": {
      "needs_background": "light"
     },
     "output_type": "display_data"
    },
    {
     "data": {
      "image/png": "[encoded data removed]",
      "text/plain": [
       "<Figure size 432x288 with 1 Axes>"
      ]
     },
     "metadata": {
      "needs_background": "light"
     },
     "output_type": "display_data"
    },
    {
     "data": {
      "image/png": "[encoded data removed]",
      "text/plain": [
       "<Figure size 432x288 with 1 Axes>"
      ]
     },
     "metadata": {
      "needs_background": "light"
     },
     "output_type": "display_data"
    },
    {
     "data": {
      "image/png": "[encoded data removed]",
      "text/plain": [
       "<Figure size 432x288 with 1 Axes>"
      ]
     },
     "metadata": {
      "needs_background": "light"
     },
     "output_type": "display_data"
    }
   ],
   "source": [
    "decoder.eval()\n",
    "\n",
    "with torch.no_grad():\n",
    "    # you can try true samples\n",
    "    # or useing argmax\n",
    "    samples = decoder.sample_images(5, argmax=True)\n",
    "    display_images(samples)"
   ]
  },
  {
   "cell_type": "markdown",
   "metadata": {},
   "source": [
    "# 4. Turning a Deterministic Auto-Encoder into a generative model\n",
    "\n",
    "Last exercise!\n",
    "Here I want to show you a trick to turn a deterministic model into a probabilistic generative model.\n",
    "This a two step process.\n",
    "\n",
    "First, you train an auto-encoder - not a VAE, just an encoder.\n",
    "The encoder takes an image and project it in the latent space, here we will use a 2 dimension latent space.\n",
    "It is a deterministic computation: the output of the encoder **is not** the parameters of the approximate posterior $q(z|x)$ distribution, it is a point in the $\\mathbb R^2$ space.\n",
    "The decoder reconstruct the input image from the encoder output.\n",
    "Therefore, during training, the main difference is that you don't have a KL divergence term! :)\n",
    "\n",
    "Second, we turn this deterministic model into a probabilistic generative model.\n",
    "To do this, we look at where each training image of the training is mapped in the latent space.\n",
    "You can train a Gaussian Mixture Model that will generate data that look like the latent space of the training set!\n",
    "Then, to generate a new data point, you can:\n",
    "\n",
    "1. sample a cluster from the GMM: $y \\sim p(y)$\n",
    "2. sample a point from the bivariate Gaussian associated with this cluster: $z \\sim p(z|y)$\n",
    "3. use the decoder to sample an image: $x \\sim p(x | z)$\n",
    "\n",
    "To fit and sample from the GMM, use the scikit learn library!\n",
    "https://scikit-learn.org/stable/modules/generated/sklearn.mixture.GaussianMixture.html\n",
    "\n",
    "### Architecture and training loop of the auto-encoder"
   ]
  },
  {
   "cell_type": "code",
   "execution_count": 128,
   "metadata": {
    "ExecuteTime": {
     "end_time": "2020-10-29T23:41:52.410734Z",
     "start_time": "2020-10-29T23:41:52.324481Z"
    }
   },
   "outputs": [],
   "source": [
    "class AutoEncoder(nn.Module):\n",
    "    def __init__(self, input_dim, hidden_dim, output_dim):\n",
    "        super().__init__()\n",
    "\n",
    "        self.proj1_1 = nn.Linear(input_dim, hidden_dim)\n",
    "        self.proj2_1 = nn.Linear(hidden_dim, output_dim)\n",
    "\n",
    "        \n",
    "    def forward(self, batch):\n",
    "        \n",
    "        hid = self.proj1_1(batch)\n",
    "        \n",
    "        hid = F.relu(hid)\n",
    "        \n",
    "        return self.proj2_1(hid)"
   ]
  },
  {
   "cell_type": "code",
   "execution_count": 129,
   "metadata": {
    "ExecuteTime": {
     "end_time": "2020-10-29T23:41:53.097629Z",
     "start_time": "2020-10-29T23:41:53.065997Z"
    }
   },
   "outputs": [
    {
     "data": {
      "text/plain": [
       "'    \\n    # n_samples: number of \"image output distribution\" to compute\\n    def sample_distributions(self, n_samples):\\n        # first you must sample from the prior,\\n        # then you must pass the data through this network, i.e. self(z)\\n        \\n        # shape of z: (n_samples, input_dim)\\n        z = torch.empty(n_samples, self.input_dim)\\n        z = z.normal_()\\n        z = self(z)\\n        \\n        return torch.sigmoid(z)\\n        \\n        \\n    # sample images\\n    def sample_images(self, n_samples, argmax=False):\\n        # compute the output distributions for each image\\n        # probs shape: (n_samples, output_dim)\\n        probs = self.sample_distributions(n_samples)\\n        \\n        # then sample output pixels\\n        # there are two modes:\\n        # argmax=False: sample from the output distribution\\n        # argmax=True: instead of sampling, return the most probable value for each random variable\\n        # (check how the images are converted to binary images above!)\\n        \\n        samples = probs\\n        \\n        if argmax:\\n            samples = 1*(samples >= 0.5)\\n        else:\\n            samples = torch.bernoulli(probs)\\n        \\n        \\n            \\n        return samples\\n'"
      ]
     },
     "execution_count": 129,
     "metadata": {},
     "output_type": "execute_result"
    }
   ],
   "source": [
    "class AutoDecoder(nn.Module):\n",
    "    def __init__(self, input_dim, hidden_dim, output_dim):\n",
    "        super().__init__()\n",
    "        \n",
    "                \n",
    "        self.input_dim = input_dim\n",
    "        self.proj1 = nn.Linear(input_dim, hidden_dim)\n",
    "        self.proj2 = nn.Linear(hidden_dim, output_dim)\n",
    "        \n",
    "    def forward(self, batch):\n",
    "        \n",
    "        hid = self.proj1(batch)\n",
    "        hid = F.relu(hid)\n",
    "        \n",
    "        return self.proj2(hid)\n",
    "\n",
    "'''    \n",
    "    # n_samples: number of \"image output distribution\" to compute\n",
    "    def sample_distributions(self, n_samples):\n",
    "        # first you must sample from the prior,\n",
    "        # then you must pass the data through this network, i.e. self(z)\n",
    "        \n",
    "        # shape of z: (n_samples, input_dim)\n",
    "        z = torch.empty(n_samples, self.input_dim)\n",
    "        z = z.normal_()\n",
    "        z = self(z)\n",
    "        \n",
    "        return torch.sigmoid(z)\n",
    "        \n",
    "        \n",
    "    # sample images\n",
    "    def sample_images(self, n_samples, argmax=False):\n",
    "        # compute the output distributions for each image\n",
    "        # probs shape: (n_samples, output_dim)\n",
    "        probs = self.sample_distributions(n_samples)\n",
    "        \n",
    "        # then sample output pixels\n",
    "        # there are two modes:\n",
    "        # argmax=False: sample from the output distribution\n",
    "        # argmax=True: instead of sampling, return the most probable value for each random variable\n",
    "        # (check how the images are converted to binary images above!)\n",
    "        \n",
    "        samples = probs\n",
    "        \n",
    "        if argmax:\n",
    "            samples = 1*(samples >= 0.5)\n",
    "        else:\n",
    "            samples = torch.bernoulli(probs)\n",
    "        \n",
    "        \n",
    "            \n",
    "        return samples\n",
    "'''"
   ]
  },
  {
   "cell_type": "code",
   "execution_count": 155,
   "metadata": {
    "ExecuteTime": {
     "end_time": "2020-10-30T09:25:43.734998Z",
     "start_time": "2020-10-30T09:24:49.972409Z"
    }
   },
   "outputs": [
    {
     "name": "stdout",
     "output_type": "stream",
     "text": [
      "0 :\t -199.1368076171875\n",
      "1 :\t -165.6377746875\n",
      "2 :\t -158.80438365234374\n",
      "3 :\t -155.0994855859375\n",
      "4 :\t -152.740461328125\n",
      "5 :\t -151.2019525390625\n",
      "6 :\t -150.004841171875\n",
      "7 :\t -149.0493907421875\n",
      "8 :\t -148.2366241015625\n",
      "9 :\t -147.5332426171875\n",
      "10 :\t -146.891001953125\n",
      "11 :\t -146.3095268359375\n",
      "12 :\t -145.77816748046874\n",
      "13 :\t -145.28103115234376\n",
      "14 :\t -144.814981328125\n",
      "15 :\t -144.377336171875\n",
      "16 :\t -143.97001484375\n",
      "17 :\t -143.5818687109375\n",
      "18 :\t -143.22282859375\n",
      "19 :\t -142.8646462109375\n"
     ]
    }
   ],
   "source": [
    "dim_input = 28*28\n",
    "latent_dim = 2 # we use only 2 dimensions so we can plot them!\n",
    "hidden_dim = 256\n",
    "n_epoch = 20\n",
    "batch_dim = 256\n",
    "\n",
    "encoder = AutoEncoder(dim_input, hidden_dim, latent_dim)\n",
    "decoder = AutoDecoder(latent_dim, hidden_dim, dim_input)\n",
    "\n",
    "# we must pass both network parameters to the optimizer\n",
    "# sometime its also useful to use two different optimizers,\n",
    "# for example if we want to use different learning rates.\n",
    "optimizer = torch.optim.Adam(list(encoder.parameters()) + list(decoder.parameters()))\n",
    "\n",
    "for epoch in range(n_epoch):\n",
    "    epoch_reconstruction = 0\n",
    "\n",
    "    decoder.train()\n",
    "    encoder.train()\n",
    "    for i in range(0, train_data_pixels.shape[0], batch_dim): \n",
    "        optimizer.zero_grad()\n",
    "        \n",
    "        batch = train_data_pixels[i:i+batch_dim]\n",
    "        \n",
    "        z = encoder(batch)\n",
    "\n",
    "        reconstruction_logits = decoder(z)\n",
    "        \n",
    "        reconstruction_loss = F.binary_cross_entropy_with_logits(\n",
    "            reconstruction_logits,\n",
    "            batch,\n",
    "            reduction=\"none\"\n",
    "        )\n",
    "        #print(reconstruction_loss)\n",
    "        \n",
    "        # loss shape: (batch dim,)\n",
    "        # do you understand why we sum along this dimension only?\n",
    "        # there is a minus sign before reconstruction because\n",
    "        # the loss formula is -log etc, but in the elbo its +log\n",
    "        elbo = -reconstruction_loss.sum(1)\n",
    "        \n",
    "        epoch_reconstruction += -reconstruction_loss.sum().item()\n",
    "        \n",
    "        # we want to maximize the ELBO,\n",
    "        # but Pytorch does minimization,\n",
    "        # so we define our loss as -ELBO\n",
    "        # and we mean over instances in the dataset\n",
    "        loss = -elbo.mean()\n",
    "        loss.backward()\n",
    "        \n",
    "        # optimization trick :)\n",
    "        # gradient clipping, so we don't take too big updates\n",
    "        torch.nn.utils.clip_grad_norm_(encoder.parameters(), 5)\n",
    "        torch.nn.utils.clip_grad_norm_(decoder.parameters(), 5)\n",
    "        \n",
    "        optimizer.step()\n",
    "        \n",
    "    print(\n",
    "        epoch, \":\\t\",\n",
    "        epoch_reconstruction / train_data_pixels.shape[0],\n",
    "    )"
   ]
  },
  {
   "cell_type": "markdown",
   "metadata": {},
   "source": [
    "We can now visualize the latent space of the deterministic auto-encoder. How does it look like compared to the VAE one? Does it looks like we can fit it with a GMM?"
   ]
  },
  {
   "cell_type": "code",
   "execution_count": 156,
   "metadata": {
    "ExecuteTime": {
     "end_time": "2020-10-30T09:27:57.123832Z",
     "start_time": "2020-10-30T09:27:54.941553Z"
    }
   },
   "outputs": [
    {
     "data": {
      "image/png": "[encoded data removed]",
      "text/plain": [
       "<Figure size 432x288 with 1 Axes>"
      ]
     },
     "metadata": {
      "needs_background": "light"
     },
     "output_type": "display_data"
    }
   ],
   "source": [
    "decoder.eval()\n",
    "\n",
    "# tensor that will contain all latent points\n",
    "points = np.empty((train_data_pixels.shape[0], 2))\n",
    "with torch.no_grad():\n",
    "    for i in range(0, train_data_pixels.shape[0], batch_dim): \n",
    "        batch = train_data_pixels[i:i+batch_dim]\n",
    "        z = encoder(batch)\n",
    "        points[i:i+batch_dim] = z.numpy()\n",
    "\n",
    "plt.scatter(\n",
    "    points[:,0], points[:, 1],\n",
    "    # colormap is between 0 and 1, and we have 10 classes\n",
    "    # so we just divide by 10 :)\n",
    "    # https://matplotlib.org/3.1.1/tutorials/colors/colormaps.html\n",
    "    c=matplotlib.cm.get_cmap(\"tab10\")(train_data_classes / 10.)\n",
    ")\n",
    "plt.show()"
   ]
  },
  {
   "cell_type": "markdown",
   "metadata": {},
   "source": [
    "### Turning the deterministic auto-encoder into a generative model\n",
    "\n",
    "Todo:\n",
    "\n",
    "1. fit the point from the encoder with a GMM (for example with 20 clusters, called components in scikit-learn): https://scikit-learn.org/stable/modules/generated/sklearn.mixture.GaussianMixture.html\n",
    "2. Sample many points from this GMM and plot them: does the resulting point cloud looks like the one above? (or, in other words, did the GMM correctly fit the latent space?)\n",
    "3. Sample new data from the model! How does it looks like compared to VAE? how does the output distribution looks like? Does it work?\n",
    "\n",
    "Note: its an **unsupervised problem**, do not use class information in this part!"
   ]
  },
  {
   "cell_type": "code",
   "execution_count": 158,
   "metadata": {
    "ExecuteTime": {
     "end_time": "2020-10-30T09:29:31.404440Z",
     "start_time": "2020-10-30T09:29:26.934882Z"
    }
   },
   "outputs": [
    {
     "data": {
      "image/png": "[encoded data removed]",
      "text/plain": [
       "<Figure size 432x288 with 1 Axes>"
      ]
     },
     "metadata": {
      "needs_background": "light"
     },
     "output_type": "display_data"
    }
   ],
   "source": [
    "from sklearn.mixture import GaussianMixture\n",
    "gmm = GaussianMixture(n_components=30).fit(points)\n",
    "sample_points,sample_labels = gmm.sample(len(points))\n",
    "\n",
    "plt.scatter(\n",
    "    sample_points[:,0], sample_points[:, 1],\n",
    "    # https://matplotlib.org/3.1.1/tutorials/colors/colormaps.html\n",
    "    c=sample_labels\n",
    ")\n",
    "plt.show()"
   ]
  },
  {
   "cell_type": "code",
   "execution_count": 133,
   "metadata": {
    "ExecuteTime": {
     "end_time": "2020-10-29T23:44:36.796009Z",
     "start_time": "2020-10-29T23:44:35.949289Z"
    }
   },
   "outputs": [
    {
     "data": {
      "image/png": "[encoded data removed]",
      "text/plain": [
       "<Figure size 432x288 with 1 Axes>"
      ]
     },
     "metadata": {
      "needs_background": "light"
     },
     "output_type": "display_data"
    },
    {
     "data": {
      "image/png": "[encoded data removed]",
      "text/plain": [
       "<Figure size 432x288 with 1 Axes>"
      ]
     },
     "metadata": {
      "needs_background": "light"
     },
     "output_type": "display_data"
    },
    {
     "data": {
      "image/png": "[encoded data removed]",
      "text/plain": [
       "<Figure size 432x288 with 1 Axes>"
      ]
     },
     "metadata": {
      "needs_background": "light"
     },
     "output_type": "display_data"
    },
    {
     "data": {
      "image/png": "[encoded data removed]",
      "text/plain": [
       "<Figure size 432x288 with 1 Axes>"
      ]
     },
     "metadata": {
      "needs_background": "light"
     },
     "output_type": "display_data"
    },
    {
     "data": {
      "image/png": "[encoded data removed]",
      "text/plain": [
       "<Figure size 432x288 with 1 Axes>"
      ]
     },
     "metadata": {
      "needs_background": "light"
     },
     "output_type": "display_data"
    }
   ],
   "source": [
    "sample_img = torch.sigmoid(decoder(torch.from_numpy(np.array(random.sample(list(sample_points[0]),5))).float()))\n",
    "sample_img = 1*(sample_img > 0.5)\n",
    "display_images(sample_img)"
   ]
  },
  {
   "cell_type": "code",
   "execution_count": 55,
   "metadata": {
    "ExecuteTime": {
     "end_time": "2020-10-29T20:52:28.900753Z",
     "start_time": "2020-10-29T20:52:28.869242Z"
    }
   },
   "outputs": [],
   "source": [
    "import random\n",
    "aaa = np.zeros([3,3])\n",
    "slice = random.sample(list(aaa), 2)"
   ]
  },
  {
   "cell_type": "code",
   "execution_count": 56,
   "metadata": {
    "ExecuteTime": {
     "end_time": "2020-10-29T20:52:29.245413Z",
     "start_time": "2020-10-29T20:52:29.217393Z"
    }
   },
   "outputs": [
    {
     "name": "stdout",
     "output_type": "stream",
     "text": [
      "[[0. 0. 0.]\n",
      " [0. 0. 0.]]\n"
     ]
    }
   ],
   "source": [
    "print(np.array(slice))"
   ]
  },
  {
   "cell_type": "code",
   "execution_count": null,
   "metadata": {},
   "outputs": [],
   "source": []
  }
 ],
 "metadata": {
  "kernelspec": {
   "display_name": "Python 3",
   "language": "python",
   "name": "python3"
  },
  "language_info": {
   "codemirror_mode": {
    "name": "ipython",
    "version": 3
   },
   "file_extension": ".py",
   "mimetype": "text/x-python",
   "name": "python",
   "nbconvert_exporter": "python",
   "pygments_lexer": "ipython3",
   "version": "3.6.9"
  },
  "latex_envs": {
   "LaTeX_envs_menu_present": true,
   "autoclose": false,
   "autocomplete": true,
   "bibliofile": "biblio.bib",
   "cite_by": "apalike",
   "current_citInitial": 1,
   "eqLabelWithNumbers": true,
   "eqNumInitial": 1,
   "hotkeys": {
    "equation": "Ctrl-E",
    "itemize": "Ctrl-I"
   },
   "labels_anchors": false,
   "latex_user_defs": false,
   "report_style_numbering": false,
   "user_envs_cfg": false
  }
 },
 "nbformat": 4,
 "nbformat_minor": 2
}
